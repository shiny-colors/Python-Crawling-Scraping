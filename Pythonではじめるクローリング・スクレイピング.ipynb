{
 "cells": [
  {
   "cell_type": "markdown",
   "metadata": {},
   "source": [
    "## 標準モジュールでのスクレイピング"
   ]
  },
  {
   "cell_type": "markdown",
   "metadata": {},
   "source": [
    "### ライブラリの読み込み"
   ]
  },
  {
   "cell_type": "code",
   "execution_count": 137,
   "metadata": {},
   "outputs": [],
   "source": [
    "from urllib.request import urlopen\n",
    "from html import unescape\n",
    "import numpy as np\n",
    "import re\n",
    "import sys"
   ]
  },
  {
   "cell_type": "markdown",
   "metadata": {},
   "source": [
    "### webページの読み込み"
   ]
  },
  {
   "cell_type": "code",
   "execution_count": 96,
   "metadata": {},
   "outputs": [
    {
     "name": "stdout",
     "output_type": "stream",
     "text": [
      "text/html; charset=utf-8\n",
      "<!DOCTYPE HTML>\n",
      "<html lang=\"ja\" class=\"pc\">\n",
      "<head>\n",
      "  <meta charset=\"UTF-8\">\n",
      "  <title>Pythonクローリング＆スクレイピング -データ収集・解析のための実践開発ガイド- サンプルページ</title>\n",
      "  <meta http-equiv=\"Content-Style-Type\" content=\"text/css\"/>\n",
      "  <meta http-equiv=\"Content-Script-Type\" content=\"application/javascript\"/>\n",
      "  <meta name=\"description\" content=\"Pythonクローリング＆スクレイピング -データ収集・解析のための実践開発ガイド- サンプルページ\"/>\n",
      "  <meta http-equiv=\"X-UA-Compatible\" content=\"IE=Edge,chrome=1\"/>\n",
      "  <meta name=\"apple-mobile-web-app-capable\" content=\"yes\"/>\n",
      "  <meta name=\"format-detection\" content=\"telephone=no\"/>\n",
      "  <link rel=\"shortcut icon\" href=\"/assets/templates/gdp/favicon.ico\" type=\"image/vnd.microsoft.icon\"/>\n",
      "  <meta name=\"robots\" content=\"noindex,noarchive\"/>\n",
      "  <link rel=\"stylesheet\" href=\"/dp/assets/style/store1124.css\" type=\"text/css\" media=\"all\"/>\n",
      "</head>\n",
      "<body itemscope=\"itemscope\" itemtype=\"http://schema.org/WebPage\" class=\"page-home\">\n",
      "  <header id=\"header\" itemscope=\"itemscope\" itemtype=\"http://schema.org/WPHeader\">\n",
      "    <h1 class=\"home-title\">Scraping-Book</h1>\n",
      " \n"
     ]
    }
   ],
   "source": [
    "f = urlopen(\"http://sample.scraping-book.com/dp\")\n",
    "bytes_content = f.read()\n",
    "print(f.getheader(\"Content-Type\"))\n",
    "scanned_text = bytes_content.decode(\"UTF-8\", errors=\"replace\")\n",
    "print(scanned_text[:1024])"
   ]
  },
  {
   "cell_type": "markdown",
   "metadata": {},
   "source": [
    "### 正規表現の例"
   ]
  },
  {
   "cell_type": "code",
   "execution_count": 97,
   "metadata": {},
   "outputs": [
    {
     "name": "stdout",
     "output_type": "stream",
     "text": [
      "<_sre.SRE_Match object; span=(0, 1), match='a'>\n",
      "<_sre.SRE_Match object; span=(0, 7), match='abc123D'>\n",
      "<_sre.SRE_Match object; span=(0, 3), match='abc'>\n",
      "['This', 'is', 'pen']\n",
      "That That a That\n"
     ]
    }
   ],
   "source": [
    "print(re.search(\"a\", \"abc123DEF\"))\n",
    "print(re.search(\"a.*d\", \"abc123DEF\", re.IGNORECASE))\n",
    "print(re.search(\"a(.*)c\", \"abc123DEF\"))\n",
    "print(re.findall(\"\\w{2,}\", \"This is a pen\"))\n",
    "print(re.sub(\"\\w{2,}\", \"That\", \"This is a pen\"))"
   ]
  },
  {
   "cell_type": "markdown",
   "metadata": {},
   "source": [
    "### urlと書籍タイトルを取得する"
   ]
  },
  {
   "cell_type": "code",
   "execution_count": 195,
   "metadata": {
    "scrolled": true
   },
   "outputs": [
    {
     "name": "stdout",
     "output_type": "stream",
     "text": [
      "['これからはじめるプログラミング 作って覚える基礎の基礎'\n",
      " '情報処理技術者試験 平成28年度【秋期】情報セキュリティマネジメント パーフェクトラーニング過去問題集'\n",
      " '大人の自由時間（大人の自由時間mini） 水泳のきれいなカラダをつくる～スリムな逆三角形になる！ドライランドトレーニング'\n",
      " '30レッスン 30レッスンで絶対合格！ Microsoft Office Specialist PowerPoint 2013 テキスト＋問題集'\n",
      " 'ゼロからはじめる ゼロからはじめる海外旅行でスマホ活用 スマートガイド'\n",
      " '今すぐ使えるかんたんmini 今すぐ使えるかんたんminiCD&DVD 作成超入門［Windows 10対応版］'\n",
      " '大きな字でわかりやすい 大きな字でわかりやすいワード2016入門' '大きな字でわかりやすい 大きな字でわかりやすいエクセル2016 入門'\n",
      " '今すぐ使えるかんたん 今すぐ使えるかんたんぜったいデキます！ デジカメ写真活用術［Windows 10対応版］'\n",
      " 'Software Design 2016年8月号'\n",
      " '無料ではじめるBlender CGイラストテクニック～3DCGの考え方としくみがしっかりわかる'\n",
      " '小さなお店＆会社の WordPress超入門―初めてでも安心！思いどおりのホームページを作ろう！'\n",
      " 'WEB+DB PRESS plus Atom実践入門──進化し続けるハッカブルなエディタ'\n",
      " 'アウトライナー実践入門～「書く・考える・生活する」創造的アウトライン・プロセッシングの技術〜'\n",
      " 'ゼロからはじめる ゼロからはじめるドコモGalaxy S7 edge SC-02H スマートガイド'\n",
      " 'Excelのムカムカ！が一瞬でなくなる使い方～表計算・資料作成のストレスを最小限に！'\n",
      " 'Wordのムカムカ！が一瞬でなくなる使い方～文章・資料作成のストレスを最小限に！'\n",
      " '生物ミステリー（生物ミステリー プロ） そもそも島に進化あり'\n",
      " '大人の自由時間（大人の自由時間mini） 山歩きスタートブック～道具と歩き方がわかる，行きたいコースが見つかる'\n",
      " '平成28-29年度 基本情報技術者 試験によくでる問題集【午後】'\n",
      " '大人の自由時間（大人の自由時間mini） あきらめないランニング～楽しいランのはじめかた，続けかた'\n",
      " 'Excel＆Access連携 実践ガイド～仕事の現場で即使える'\n",
      " '大人の自由時間（大人の自由時間mini） もう一度バイクに乗ろう！～羨望されるオトナのライダーになりたい人に'\n",
      " 'Slack入門[ChatOpsによるチーム開発の効率化]'\n",
      " 'パソコン入門5冊分！＜Windows 10入門＋Windows 10活用＋インターネット＆メール＋Word＋Excel＞'\n",
      " '人気ハンドメイド作家になりたい人が読む本' '今すぐ使えるかんたんEx 今すぐ使えるかんたんExヤフオク！ 本気で儲ける！ プロ技セレクション'\n",
      " '今すぐ使えるかんたんmini 今すぐ使えるかんたんminiAccess 2016 基本技'\n",
      " 'ゼロからはじめる ゼロからはじめるOneNote 2016／2013 スマートガイド'\n",
      " 'ゼロからはじめる ゼロからはじめるau Galaxy S7 edge SCV33 スマートガイド' '' '' '' '']\n",
      "['https://gihyo.jp/dp/ebook/2016/978-4-7741-8336-7'\n",
      " 'https://gihyo.jp/dp/ebook/2016/978-4-7741-8337-4'\n",
      " 'https://gihyo.jp/dp/ebook/2016/978-4-7741-8338-1'\n",
      " 'https://gihyo.jp/dp/ebook/2016/978-4-7741-8346-6'\n",
      " 'https://gihyo.jp/dp/ebook/2016/978-4-7741-8334-3'\n",
      " 'https://gihyo.jp/dp/ebook/2016/978-4-7741-8335-0'\n",
      " 'https://gihyo.jp/dp/ebook/2016/978-4-7741-8325-1'\n",
      " 'https://gihyo.jp/dp/ebook/2016/978-4-7741-8322-0'\n",
      " 'https://gihyo.jp/dp/ebook/2016/978-4-7741-8323-7'\n",
      " 'https://gihyo.jp/dp/ebook/2016/978-4-7741-8119-6'\n",
      " 'https://gihyo.jp/dp/ebook/2016/978-4-7741-8333-6'\n",
      " 'https://gihyo.jp/dp/ebook/2016/978-4-7741-8324-4'\n",
      " 'https://gihyo.jp/dp/ebook/2016/978-4-7741-8302-2'\n",
      " 'https://gihyo.jp/dp/ebook/2016/978-4-7741-8301-5'\n",
      " 'https://gihyo.jp/dp/ebook/2016/978-4-7741-8297-1'\n",
      " 'https://gihyo.jp/dp/ebook/2016/978-4-7741-8255-9'\n",
      " 'https://gihyo.jp/dp/ebook/2016/978-4-7741-8258-2'\n",
      " 'https://gihyo.jp/dp/ebook/2016/978-4-7741-8319-0'\n",
      " 'https://gihyo.jp/dp/ebook/2016/978-4-7741-8318-3'\n",
      " 'https://gihyo.jp/dp/ebook/2016/978-4-7741-8317-6'\n",
      " 'https://gihyo.jp/dp/ebook/2016/978-4-7741-8300-8'\n",
      " 'https://gihyo.jp/dp/ebook/2016/978-4-7741-8299-5'\n",
      " 'https://gihyo.jp/dp/ebook/2016/978-4-7741-8296-4'\n",
      " 'https://gihyo.jp/dp/ebook/2016/978-4-7741-8292-6'\n",
      " 'https://gihyo.jp/dp/ebook/2016/978-4-7741-8273-5'\n",
      " 'https://gihyo.jp/dp/ebook/2016/978-4-7741-8295-7'\n",
      " 'https://gihyo.jp/dp/ebook/2016/978-4-7741-8288-9'\n",
      " 'https://gihyo.jp/dp/ebook/2016/978-4-7741-8289-6'\n",
      " 'https://gihyo.jp/dp/ebook/2016/978-4-7741-8290-2'\n",
      " 'https://gihyo.jp/dp/ebook/2016/978-4-7741-8291-9'\n",
      " 'https://gihyo.jp/dp\" title=\"サンプルページのため利用できません\" class=\"home'\n",
      " 'https://gihyo.jp/dp/my-page\" title=\"サンプルページのため利用できません\" class=\"mypage'\n",
      " 'https://gihyo.jp/dp/information\" title=\"サンプルページのため利用できません\" class=\"information'\n",
      " 'https://gihyo.jp/dp/help\" title=\"サンプルページのため利用できません\" class=\"help']\n"
     ]
    }
   ],
   "source": [
    "#データの格納用配列\n",
    "url_list = np.array([\"\" for i in range(len(text))], dtype=\"U65536\")\n",
    "title_list = np.array([\"\" for i in range(len(text))], dtype=\"U65536\")\n",
    "text = re.findall(r'<a itemprop=\"url\".*?</a></li>', scanned_text, re.DOTALL)   #正規表現で文章を分離\n",
    "\n",
    "for j in range(len(text)):\n",
    "    #urlを取得\n",
    "    url = re.search('<a itemprop=\"url\" href=\"(.*?)\">', text[j])\n",
    "    if not url:\n",
    "        continue\n",
    "    url = url.group(1)\n",
    "    url_list[j] = 'https://gihyo.jp' + url\n",
    "\n",
    "    #タイトルを取得\n",
    "    title = re.search('<p itemprop=\"name\".*?</p>', text[j])\n",
    "    if not title:\n",
    "        continue\n",
    "    title = title.group(0)\n",
    "    title = title.replace('<br/>', '')\n",
    "    title = re.sub('<.*?>', '', title)\n",
    "    title_list[j] = unescape(title)\n",
    "    \n",
    "#取得したデータを確認\n",
    "print(title_list)\n",
    "print(url_list)"
   ]
  },
  {
   "cell_type": "code",
   "execution_count": 187,
   "metadata": {},
   "outputs": [
    {
     "data": {
      "text/plain": [
       "array([], dtype='<U65536')"
      ]
     },
     "execution_count": 187,
     "metadata": {},
     "output_type": "execute_result"
    }
   ],
   "source": [
    "np.array([], dtype=\"U65536\")"
   ]
  },
  {
   "cell_type": "code",
   "execution_count": 194,
   "metadata": {},
   "outputs": [
    {
     "data": {
      "text/plain": [
       "4294967296.0"
      ]
     },
     "execution_count": 194,
     "metadata": {},
     "output_type": "execute_result"
    }
   ],
   "source": [
    "np.power(2.0, 32)"
   ]
  },
  {
   "cell_type": "code",
   "execution_count": null,
   "metadata": {},
   "outputs": [],
   "source": []
  }
 ],
 "metadata": {
  "kernelspec": {
   "display_name": "Python 3",
   "language": "python",
   "name": "python3"
  },
  "language_info": {
   "codemirror_mode": {
    "name": "ipython",
    "version": 3
   },
   "file_extension": ".py",
   "mimetype": "text/x-python",
   "name": "python",
   "nbconvert_exporter": "python",
   "pygments_lexer": "ipython3",
   "version": "3.6.5"
  }
 },
 "nbformat": 4,
 "nbformat_minor": 2
}
