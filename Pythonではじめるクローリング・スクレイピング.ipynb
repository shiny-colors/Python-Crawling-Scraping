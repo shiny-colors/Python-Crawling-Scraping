{
 "cells": [
  {
   "cell_type": "markdown",
   "metadata": {},
   "source": [
    "## 標準モジュールでのスクレイピング"
   ]
  },
  {
   "cell_type": "markdown",
   "metadata": {},
   "source": [
    "### ライブラリの読み込み"
   ]
  },
  {
   "cell_type": "code",
   "execution_count": 1,
   "metadata": {},
   "outputs": [],
   "source": [
    "from urllib.request import urlopen\n",
    "from html import unescape\n",
    "import numpy as np\n",
    "import re\n",
    "import sys\n",
    "import feedparser\n",
    "import json"
   ]
  },
  {
   "cell_type": "markdown",
   "metadata": {},
   "source": [
    "### webページの読み込み"
   ]
  },
  {
   "cell_type": "code",
   "execution_count": 2,
   "metadata": {},
   "outputs": [
    {
     "name": "stdout",
     "output_type": "stream",
     "text": [
      "text/html; charset=utf-8\n",
      "<!DOCTYPE HTML>\n",
      "<html lang=\"ja\" class=\"pc\">\n",
      "<head>\n",
      "  <meta charset=\"UTF-8\">\n",
      "  <title>Pythonクローリング＆スクレイピング -データ収集・解析のための実践開発ガイド- サンプルページ</title>\n",
      "  <meta http-equiv=\"Content-Style-Type\" content=\"text/css\"/>\n",
      "  <meta http-equiv=\"Content-Script-Type\" content=\"application/javascript\"/>\n",
      "  <meta name=\"description\" content=\"Pythonクローリング＆スクレイピング -データ収集・解析のための実践開発ガイド- サンプルページ\"/>\n",
      "  <meta http-equiv=\"X-UA-Compatible\" content=\"IE=Edge,chrome=1\"/>\n",
      "  <meta name=\"apple-mobile-web-app-capable\" content=\"yes\"/>\n",
      "  <meta name=\"format-detection\" content=\"telephone=no\"/>\n",
      "  <link rel=\"shortcut icon\" href=\"/assets/templates/gdp/favicon.ico\" type=\"image/vnd.microsoft.icon\"/>\n",
      "  <meta name=\"robots\" content=\"noindex,noarchive\"/>\n",
      "  <link rel=\"stylesheet\" href=\"/dp/assets/style/store1124.css\" type=\"text/css\" media=\"all\"/>\n",
      "</head>\n",
      "<body itemscope=\"itemscope\" itemtype=\"http://schema.org/WebPage\" class=\"page-home\">\n",
      "  <header id=\"header\" itemscope=\"itemscope\" itemtype=\"http://schema.org/WPHeader\">\n",
      "    <h1 class=\"home-title\">Scraping-Book</h1>\n",
      " \n"
     ]
    }
   ],
   "source": [
    "f = urlopen(\"http://sample.scraping-book.com/dp\")\n",
    "bytes_content = f.read()\n",
    "print(f.getheader(\"Content-Type\"))\n",
    "scanned_text = bytes_content.decode(\"UTF-8\", errors=\"replace\")\n",
    "print(scanned_text[:1024])"
   ]
  },
  {
   "cell_type": "markdown",
   "metadata": {},
   "source": [
    "### 正規表現の例"
   ]
  },
  {
   "cell_type": "code",
   "execution_count": 3,
   "metadata": {},
   "outputs": [
    {
     "name": "stdout",
     "output_type": "stream",
     "text": [
      "<_sre.SRE_Match object; span=(0, 1), match='a'>\n",
      "<_sre.SRE_Match object; span=(0, 7), match='abc123D'>\n",
      "<_sre.SRE_Match object; span=(0, 3), match='abc'>\n",
      "['This', 'is', 'pen']\n",
      "That That a That\n"
     ]
    }
   ],
   "source": [
    "print(re.search(\"a\", \"abc123DEF\"))\n",
    "print(re.search(\"a.*d\", \"abc123DEF\", re.IGNORECASE))\n",
    "print(re.search(\"a(.*)c\", \"abc123DEF\"))\n",
    "print(re.findall(\"\\w{2,}\", \"This is a pen\"))\n",
    "print(re.sub(\"\\w{2,}\", \"That\", \"This is a pen\"))"
   ]
  },
  {
   "cell_type": "markdown",
   "metadata": {},
   "source": [
    "### urlと書籍タイトルを取得する"
   ]
  },
  {
   "cell_type": "code",
   "execution_count": 5,
   "metadata": {
    "scrolled": true
   },
   "outputs": [
    {
     "name": "stdout",
     "output_type": "stream",
     "text": [
      "['これからはじめるプログラミング 作って覚える基礎の基礎'\n",
      " '情報処理技術者試験 平成28年度【秋期】情報セキュリティマネジメント パーフェクトラーニング過去問題集'\n",
      " '大人の自由時間（大人の自由時間mini） 水泳のきれいなカラダをつくる～スリムな逆三角形になる！ドライランドトレーニング'\n",
      " '30レッスン 30レッスンで絶対合格！ Microsoft Office Specialist PowerPoint 2013 テキスト＋問題集'\n",
      " 'ゼロからはじめる ゼロからはじめる海外旅行でスマホ活用 スマートガイド'\n",
      " '今すぐ使えるかんたんmini 今すぐ使えるかんたんminiCD&DVD 作成超入門［Windows 10対応版］'\n",
      " '大きな字でわかりやすい 大きな字でわかりやすいワード2016入門' '大きな字でわかりやすい 大きな字でわかりやすいエクセル2016 入門'\n",
      " '今すぐ使えるかんたん 今すぐ使えるかんたんぜったいデキます！ デジカメ写真活用術［Windows 10対応版］'\n",
      " 'Software Design 2016年8月号'\n",
      " '無料ではじめるBlender CGイラストテクニック～3DCGの考え方としくみがしっかりわかる'\n",
      " '小さなお店＆会社の WordPress超入門―初めてでも安心！思いどおりのホームページを作ろう！'\n",
      " 'WEB+DB PRESS plus Atom実践入門──進化し続けるハッカブルなエディタ'\n",
      " 'アウトライナー実践入門～「書く・考える・生活する」創造的アウトライン・プロセッシングの技術〜'\n",
      " 'ゼロからはじめる ゼロからはじめるドコモGalaxy S7 edge SC-02H スマートガイド'\n",
      " 'Excelのムカムカ！が一瞬でなくなる使い方～表計算・資料作成のストレスを最小限に！'\n",
      " 'Wordのムカムカ！が一瞬でなくなる使い方～文章・資料作成のストレスを最小限に！'\n",
      " '生物ミステリー（生物ミステリー プロ） そもそも島に進化あり'\n",
      " '大人の自由時間（大人の自由時間mini） 山歩きスタートブック～道具と歩き方がわかる，行きたいコースが見つかる'\n",
      " '平成28-29年度 基本情報技術者 試験によくでる問題集【午後】'\n",
      " '大人の自由時間（大人の自由時間mini） あきらめないランニング～楽しいランのはじめかた，続けかた'\n",
      " 'Excel＆Access連携 実践ガイド～仕事の現場で即使える'\n",
      " '大人の自由時間（大人の自由時間mini） もう一度バイクに乗ろう！～羨望されるオトナのライダーになりたい人に'\n",
      " 'Slack入門[ChatOpsによるチーム開発の効率化]'\n",
      " 'パソコン入門5冊分！＜Windows 10入門＋Windows 10活用＋インターネット＆メール＋Word＋Excel＞'\n",
      " '人気ハンドメイド作家になりたい人が読む本' '今すぐ使えるかんたんEx 今すぐ使えるかんたんExヤフオク！ 本気で儲ける！ プロ技セレクション'\n",
      " '今すぐ使えるかんたんmini 今すぐ使えるかんたんminiAccess 2016 基本技'\n",
      " 'ゼロからはじめる ゼロからはじめるOneNote 2016／2013 スマートガイド'\n",
      " 'ゼロからはじめる ゼロからはじめるau Galaxy S7 edge SCV33 スマートガイド' '' '' '' '']\n",
      "['https://gihyo.jp/dp/ebook/2016/978-4-7741-8336-7'\n",
      " 'https://gihyo.jp/dp/ebook/2016/978-4-7741-8337-4'\n",
      " 'https://gihyo.jp/dp/ebook/2016/978-4-7741-8338-1'\n",
      " 'https://gihyo.jp/dp/ebook/2016/978-4-7741-8346-6'\n",
      " 'https://gihyo.jp/dp/ebook/2016/978-4-7741-8334-3'\n",
      " 'https://gihyo.jp/dp/ebook/2016/978-4-7741-8335-0'\n",
      " 'https://gihyo.jp/dp/ebook/2016/978-4-7741-8325-1'\n",
      " 'https://gihyo.jp/dp/ebook/2016/978-4-7741-8322-0'\n",
      " 'https://gihyo.jp/dp/ebook/2016/978-4-7741-8323-7'\n",
      " 'https://gihyo.jp/dp/ebook/2016/978-4-7741-8119-6'\n",
      " 'https://gihyo.jp/dp/ebook/2016/978-4-7741-8333-6'\n",
      " 'https://gihyo.jp/dp/ebook/2016/978-4-7741-8324-4'\n",
      " 'https://gihyo.jp/dp/ebook/2016/978-4-7741-8302-2'\n",
      " 'https://gihyo.jp/dp/ebook/2016/978-4-7741-8301-5'\n",
      " 'https://gihyo.jp/dp/ebook/2016/978-4-7741-8297-1'\n",
      " 'https://gihyo.jp/dp/ebook/2016/978-4-7741-8255-9'\n",
      " 'https://gihyo.jp/dp/ebook/2016/978-4-7741-8258-2'\n",
      " 'https://gihyo.jp/dp/ebook/2016/978-4-7741-8319-0'\n",
      " 'https://gihyo.jp/dp/ebook/2016/978-4-7741-8318-3'\n",
      " 'https://gihyo.jp/dp/ebook/2016/978-4-7741-8317-6'\n",
      " 'https://gihyo.jp/dp/ebook/2016/978-4-7741-8300-8'\n",
      " 'https://gihyo.jp/dp/ebook/2016/978-4-7741-8299-5'\n",
      " 'https://gihyo.jp/dp/ebook/2016/978-4-7741-8296-4'\n",
      " 'https://gihyo.jp/dp/ebook/2016/978-4-7741-8292-6'\n",
      " 'https://gihyo.jp/dp/ebook/2016/978-4-7741-8273-5'\n",
      " 'https://gihyo.jp/dp/ebook/2016/978-4-7741-8295-7'\n",
      " 'https://gihyo.jp/dp/ebook/2016/978-4-7741-8288-9'\n",
      " 'https://gihyo.jp/dp/ebook/2016/978-4-7741-8289-6'\n",
      " 'https://gihyo.jp/dp/ebook/2016/978-4-7741-8290-2'\n",
      " 'https://gihyo.jp/dp/ebook/2016/978-4-7741-8291-9'\n",
      " 'https://gihyo.jp/dp\" title=\"サンプルページのため利用できません\" class=\"home'\n",
      " 'https://gihyo.jp/dp/my-page\" title=\"サンプルページのため利用できません\" class=\"mypage'\n",
      " 'https://gihyo.jp/dp/information\" title=\"サンプルページのため利用できません\" class=\"information'\n",
      " 'https://gihyo.jp/dp/help\" title=\"サンプルページのため利用できません\" class=\"help']\n"
     ]
    }
   ],
   "source": [
    "#データの格納用配列\n",
    "text = re.findall(r'<a itemprop=\"url\".*?</a></li>', scanned_text, re.DOTALL)   #正規表現で文章を分離\n",
    "url_list = np.array([\"\" for i in range(len(text))], dtype=\"U65536\")\n",
    "title_list = np.array([\"\" for i in range(len(text))], dtype=\"U65536\")\n",
    "\n",
    "for j in range(len(text)):\n",
    "    #urlを取得\n",
    "    url = re.search('<a itemprop=\"url\" href=\"(.*?)\">', text[j])\n",
    "    if not url:\n",
    "        continue\n",
    "    url = url.group(1)\n",
    "    url_list[j] = 'https://gihyo.jp' + url\n",
    "\n",
    "    #タイトルを取得\n",
    "    title = re.search('<p itemprop=\"name\".*?</p>', text[j])\n",
    "    if not title:\n",
    "        continue\n",
    "    title = title.group(0)\n",
    "    title = title.replace('<br/>', '')\n",
    "    title = re.sub('<.*?>', '', title)\n",
    "    title_list[j] = unescape(title)\n",
    "    \n",
    "#取得したデータを確認\n",
    "print(title_list)\n",
    "print(url_list)"
   ]
  },
  {
   "cell_type": "markdown",
   "metadata": {},
   "source": [
    "### XML(RSS)のスクレイピング"
   ]
  },
  {
   "cell_type": "code",
   "execution_count": 7,
   "metadata": {},
   "outputs": [],
   "source": [
    "#rssを取得\n",
    "rss = feedparser.parse('http://gihyo.jp/feed/rss2', response_headers={\"content-type\": \"text/xml; charset=utf-8\"})"
   ]
  },
  {
   "cell_type": "code",
   "execution_count": 8,
   "metadata": {
    "scrolled": true
   },
   "outputs": [
    {
     "name": "stdout",
     "output_type": "stream",
     "text": [
      "['2019年3月2日\\u3000鳴くねこ ── 帰ってきた『技評ねこ部通信』'\n",
      " '1,000名を超すAndroidに関わる開発者が集まった DroidKaigi 2019参加レポート ── レポート'\n",
      " '第43回\\u3000MySQL 8.0.15緊急リリースとLINEでの導入事例公開，PostgreSQL 11.2，Pgpool-II 4.0.3リリース ── OSSデータベース取り取り時報'\n",
      " \"WEB+DB PRESS Vol.108へのお便り ── はまちちゃんとわかばちゃんのREADER'S FORUM―読者のページ\"\n",
      " 'ネットギアジャパン合同会社，Amazon Alexa付属「Orbi Voice メッシュWiFiシステム」が日本初上陸，本日より予約開始 ── ニュースリリース'\n",
      " '2019年2月第4週\\u3000Galaxy S10e，S10，S10+，そして，Galaxy Foldを発表 ── Android Weekly Topics'\n",
      " '2019年2月第5週号 1位は，デザインシステムを知るヒントとして実例を紹介，気になるネタは，\"アルバム\"の老舗，無料の容量無制限画像保存クラウドストレージサービスをローンチ ── 週刊Webテク通信'\n",
      " '第558回\\u3000LibreOffice 6.2のユーザーインターフェース概要 ── Ubuntu Weekly Recipe'\n",
      " '第16回\\u3000BBc-1 今後の展望 ── ブロックチェーンの課題と可能性～BBc-1（Beyond Blockchain One）から学ぶブロックチェーン開発'\n",
      " '第7回\\u3000ウィスキー・ボトル・ブルース（1番） ── 続・玩式草子 ―戯れせんとや生まれけん―'\n",
      " '第91回\\u3000テーブルごとのリクエストやI/Oの統計を確認する ── MySQL道普請便り'\n",
      " '2019年2月25日\\u3000\"急ぐ必要はない\" ―Linus，「Linux 5.0-rc8」を公開，正式リリースは3月3日に ── Linux Daily Topics'\n",
      " '最終回\\u3000Android 端末におけるライブ配信サービスの実現（前編） ── 大人気動画コミュニティアプリの運用の内幕―MixChannel（ミクチャ）を支える技術'\n",
      " '第4回\\u3000YAPC座談会，Lightning Talks，そして，キーノート ── 3年半ぶりに東京に返ってきたYAPC～YAPC::Tokyo 2019'\n",
      " '2019年2月22日\\u3000帰ってこいこい！ねこ社員！ ── 帰ってきた『技評ねこ部通信』'\n",
      " '2019年2月22日号\\u3000今後の32bitサポートの行方（2019年2月バージョン）・オープンソースカンファレンス 2019 Tokyo/Spring ── Ubuntu Weekly Topics'\n",
      " '第11回\\u3000異なるユーザー層へのデザイン ―出品者／購入者，初心者／上級者…… ── 縁の下のUIデザイン―少しの工夫で大きな改善！'\n",
      " '第3回\\u3000AWS::XRayによる解析とその実装 / 多くのCPAN Authorに育てられ，息をするようにCPANモジュールを書けるようになり，そして分かったこと ── 3年半ぶりに東京に返ってきたYAPC～YAPC::Tokyo 2019'\n",
      " '2019年2月21日\\u3000Fedora，中国発プロジェクト「Deepin Desktop Environment」をベースにDebianデスクトップ環境を移植へ ── Linux Daily Topics'\n",
      " '第2回\\u3000JavaScriptの呪いから解き放たれて ── at the front―前線にて']\n",
      "['https://gihyo.jp/lifestyle/clip/01/monthly-cat/201903/39079'\n",
      " 'https://gihyo.jp/news/report/2019/03/0101'\n",
      " 'https://gihyo.jp/dev/serial/01/oss-db-various-news/0043'\n",
      " 'https://gihyo.jp/dev/serial/01/readers-forum/vol109'\n",
      " 'https://gihyo.jp/news/nr/2019/02/2801'\n",
      " 'https://gihyo.jp/lifestyle/clip/01/awt/201902/28'\n",
      " 'https://gihyo.jp/design/clip/01/weekly-web-tech/201902/28'\n",
      " 'https://gihyo.jp/admin/serial/01/ubuntu-recipe/0558'\n",
      " 'https://gihyo.jp/dev/serial/01/bbc1/0016'\n",
      " 'https://gihyo.jp/lifestyle/serial/01/ganshiki-soushi-2/0007'\n",
      " 'https://gihyo.jp/dev/serial/01/mysql-road-construction-news/0091'\n",
      " 'https://gihyo.jp/admin/clip/01/linux_dt/201902/25'\n",
      " 'https://gihyo.jp/dev/serial/01/mixchannel/0005'\n",
      " 'https://gihyo.jp/news/report/01/yapcjapan2019/0004'\n",
      " 'https://gihyo.jp/lifestyle/clip/01/monthly-cat/201902/39015'\n",
      " 'https://gihyo.jp/admin/clip/01/ubuntu-topics/201902/22'\n",
      " 'https://gihyo.jp/design/serial/01/ui-design-unsung/0011'\n",
      " 'https://gihyo.jp/news/report/01/yapcjapan2019/0003'\n",
      " 'https://gihyo.jp/admin/clip/01/linux_dt/201902/21'\n",
      " 'https://gihyo.jp/dev/serial/01/at-the-front/0002']\n"
     ]
    }
   ],
   "source": [
    "#データの格納用配列\n",
    "url_list = np.array([\"\" for i in range(len(rss.entries))], dtype=\"U65536\")\n",
    "title_list = np.array([\"\" for i in range(len(rss.entries))], dtype=\"U65536\")\n",
    "text = rss.entries\n",
    "\n",
    "#タイトルとurlを取得\n",
    "for j in range(len(text)):\n",
    "    #urlを取得\n",
    "    url = text[j].link\n",
    "    if not url:\n",
    "        continue\n",
    "    url_list[j] = url\n",
    "\n",
    "    #タイトルを取得\n",
    "    title = text[j].title\n",
    "    if not title:\n",
    "        continue\n",
    "    title_list[j] = title\n",
    "print(title_list)\n",
    "print(url_list)"
   ]
  },
  {
   "cell_type": "code",
   "execution_count": 233,
   "metadata": {},
   "outputs": [
    {
     "data": {
      "text/plain": [
       "'2019年3月2日\\u3000鳴くねこ ── 帰ってきた『技評ねこ部通信』'"
      ]
     },
     "execution_count": 233,
     "metadata": {},
     "output_type": "execute_result"
    }
   ],
   "source": []
  },
  {
   "cell_type": "code",
   "execution_count": null,
   "metadata": {},
   "outputs": [],
   "source": []
  }
 ],
 "metadata": {
  "kernelspec": {
   "display_name": "Python 3",
   "language": "python",
   "name": "python3"
  },
  "language_info": {
   "codemirror_mode": {
    "name": "ipython",
    "version": 3
   },
   "file_extension": ".py",
   "mimetype": "text/x-python",
   "name": "python",
   "nbconvert_exporter": "python",
   "pygments_lexer": "ipython3",
   "version": "3.6.5"
  }
 },
 "nbformat": 4,
 "nbformat_minor": 2
}
